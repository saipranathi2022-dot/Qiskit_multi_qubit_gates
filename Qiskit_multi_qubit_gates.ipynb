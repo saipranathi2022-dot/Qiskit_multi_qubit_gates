{
  "nbformat": 4,
  "nbformat_minor": 0,
  "metadata": {
    "colab": {
      "provenance": [],
      "include_colab_link": true
    },
    "kernelspec": {
      "name": "python3",
      "display_name": "Python 3"
    },
    "language_info": {
      "name": "python"
    }
  },
  "cells": [
    {
      "cell_type": "markdown",
      "metadata": {
        "id": "view-in-github",
        "colab_type": "text"
      },
      "source": [
        "<a href=\"https://colab.research.google.com/github/saipranathi2022-dot/Qiskit_multi_qubit_gates/blob/main/Qiskit_multi_qubit_gates.ipynb\" target=\"_parent\"><img src=\"https://colab.research.google.com/assets/colab-badge.svg\" alt=\"Open In Colab\"/></a>"
      ]
    },
    {
      "cell_type": "code",
      "source": [
        "!pip install qiskit qiskit-aer --upgrade"
      ],
      "metadata": {
        "id": "Mx6284lurNt1",
        "outputId": "501b1333-dc32-4415-e323-7f43c0e098d0",
        "colab": {
          "base_uri": "https://localhost:8080/"
        }
      },
      "execution_count": 1,
      "outputs": [
        {
          "output_type": "stream",
          "name": "stdout",
          "text": [
            "Collecting qiskit\n",
            "  Downloading qiskit-2.2.1-cp39-abi3-manylinux2014_x86_64.manylinux_2_17_x86_64.whl.metadata (12 kB)\n",
            "Collecting qiskit-aer\n",
            "  Downloading qiskit_aer-0.17.2-cp312-cp312-manylinux_2_17_x86_64.manylinux2014_x86_64.whl.metadata (8.3 kB)\n",
            "Collecting rustworkx>=0.15.0 (from qiskit)\n",
            "  Downloading rustworkx-0.17.1-cp39-abi3-manylinux_2_17_x86_64.manylinux2014_x86_64.whl.metadata (10 kB)\n",
            "Requirement already satisfied: numpy<3,>=1.17 in /usr/local/lib/python3.12/dist-packages (from qiskit) (2.0.2)\n",
            "Requirement already satisfied: scipy>=1.5 in /usr/local/lib/python3.12/dist-packages (from qiskit) (1.16.2)\n",
            "Requirement already satisfied: dill>=0.3 in /usr/local/lib/python3.12/dist-packages (from qiskit) (0.3.8)\n",
            "Collecting stevedore>=3.0.0 (from qiskit)\n",
            "  Downloading stevedore-5.5.0-py3-none-any.whl.metadata (2.2 kB)\n",
            "Requirement already satisfied: typing-extensions in /usr/local/lib/python3.12/dist-packages (from qiskit) (4.15.0)\n",
            "Requirement already satisfied: psutil>=5 in /usr/local/lib/python3.12/dist-packages (from qiskit-aer) (5.9.5)\n",
            "Requirement already satisfied: python-dateutil>=2.8.0 in /usr/local/lib/python3.12/dist-packages (from qiskit-aer) (2.9.0.post0)\n",
            "Requirement already satisfied: six>=1.5 in /usr/local/lib/python3.12/dist-packages (from python-dateutil>=2.8.0->qiskit-aer) (1.17.0)\n",
            "Downloading qiskit-2.2.1-cp39-abi3-manylinux2014_x86_64.manylinux_2_17_x86_64.whl (8.0 MB)\n",
            "\u001b[2K   \u001b[90m━━━━━━━━━━━━━━━━━━━━━━━━━━━━━━━━━━━━━━━━\u001b[0m \u001b[32m8.0/8.0 MB\u001b[0m \u001b[31m64.8 MB/s\u001b[0m eta \u001b[36m0:00:00\u001b[0m\n",
            "\u001b[?25hDownloading qiskit_aer-0.17.2-cp312-cp312-manylinux_2_17_x86_64.manylinux2014_x86_64.whl (12.4 MB)\n",
            "\u001b[2K   \u001b[90m━━━━━━━━━━━━━━━━━━━━━━━━━━━━━━━━━━━━━━━━\u001b[0m \u001b[32m12.4/12.4 MB\u001b[0m \u001b[31m140.8 MB/s\u001b[0m eta \u001b[36m0:00:00\u001b[0m\n",
            "\u001b[?25hDownloading rustworkx-0.17.1-cp39-abi3-manylinux_2_17_x86_64.manylinux2014_x86_64.whl (2.2 MB)\n",
            "\u001b[2K   \u001b[90m━━━━━━━━━━━━━━━━━━━━━━━━━━━━━━━━━━━━━━━━\u001b[0m \u001b[32m2.2/2.2 MB\u001b[0m \u001b[31m105.0 MB/s\u001b[0m eta \u001b[36m0:00:00\u001b[0m\n",
            "\u001b[?25hDownloading stevedore-5.5.0-py3-none-any.whl (49 kB)\n",
            "\u001b[2K   \u001b[90m━━━━━━━━━━━━━━━━━━━━━━━━━━━━━━━━━━━━━━━━\u001b[0m \u001b[32m49.5/49.5 kB\u001b[0m \u001b[31m3.8 MB/s\u001b[0m eta \u001b[36m0:00:00\u001b[0m\n",
            "\u001b[?25hInstalling collected packages: stevedore, rustworkx, qiskit, qiskit-aer\n",
            "Successfully installed qiskit-2.2.1 qiskit-aer-0.17.2 rustworkx-0.17.1 stevedore-5.5.0\n"
          ]
        }
      ]
    },
    {
      "cell_type": "code",
      "execution_count": 2,
      "metadata": {
        "id": "VPOwLacGrCdU",
        "outputId": "f411f273-97ee-4f10-f599-570d3e8af90d",
        "colab": {
          "base_uri": "https://localhost:8080/"
        }
      },
      "outputs": [
        {
          "output_type": "stream",
          "name": "stdout",
          "text": [
            "\n",
            "--- Original Circuit ---\n",
            "        ┌───┐            ░ ┌─┐   \n",
            "   q_0: ┤ H ├──■───■──X──░─┤M├───\n",
            "        └───┘┌─┴─┐ │  │  ░ └╥┘┌─┐\n",
            "   q_1: ─────┤ X ├─■──X──░──╫─┤M├\n",
            "             └───┘       ░  ║ └╥┘\n",
            "   c: 2/════════════════════╬══╬═\n",
            "                            ║  ║ \n",
            "meas: 2/════════════════════╩══╩═\n",
            "                            0  1 \n",
            "Measurement Counts (Original): {'00 00': 506, '11 00': 518}\n",
            "\n",
            "Task 1\n",
            "        ┌───┐┌───┐       ░ ┌─┐   \n",
            "   q_0: ┤ H ├┤ X ├─■──X──░─┤M├───\n",
            "        └───┘└─┬─┘ │  │  ░ └╥┘┌─┐\n",
            "   q_1: ───────■───■──X──░──╫─┤M├\n",
            "                         ░  ║ └╥┘\n",
            "   c: 2/════════════════════╬══╬═\n",
            "                            ║  ║ \n",
            "meas: 2/════════════════════╩══╩═\n",
            "                            0  1 \n",
            "Measurement Counts (Control/Target Swapped): {'00 00': 514, '10 00': 510}\n",
            "\n",
            "Explanation: Changing control and target qubits alters how entanglement is created. The resulting output distribution changes because different qubits influence each other in different directions.\n",
            "\n",
            "Task 2\n",
            "        ┌───┐         ░ ┌─┐   \n",
            "   q_0: ┤ H ├──■───■──░─┤M├───\n",
            "        └───┘┌─┴─┐ │  ░ └╥┘┌─┐\n",
            "   q_1: ─────┤ X ├─■──░──╫─┤M├\n",
            "             └───┘    ░  ║ └╥┘\n",
            "   c: 2/═════════════════╬══╬═\n",
            "                         ║  ║ \n",
            "meas: 2/═════════════════╩══╩═\n",
            "                         0  1 \n",
            "Measurement Counts (Without SWAP): {'11 00': 528, '00 00': 496}\n",
            "\n",
            "Explanation: Removing the SWAP gate keeps the qubits in their original positions, so measurement results map to different classical bits compared to the swapped version.\n",
            "\n",
            "Task 3\n",
            "        ┌───┐            ░ ┌─┐   \n",
            "   q_0: ┤ H ├──■───■──X──░─┤M├───\n",
            "        ├───┤┌─┴─┐ │  │  ░ └╥┘┌─┐\n",
            "   q_1: ┤ H ├┤ X ├─■──X──░──╫─┤M├\n",
            "        └───┘└───┘       ░  ║ └╥┘\n",
            "   c: 2/════════════════════╬══╬═\n",
            "                            ║  ║ \n",
            "meas: 2/════════════════════╩══╩═\n",
            "                            0  1 \n",
            "Measurement Counts (Hadamard Added on Qubit 1): {'11 00': 246, '10 00': 270, '01 00': 249, '00 00': 259}\n",
            "\n",
            "Explanation: Applying a Hadamard on the second qubit before entangling operations changes its basis. This affects how the two qubits interfere and entangle, leading to different measurement distributions.\n"
          ]
        }
      ],
      "source": [
        "from qiskit import QuantumCircuit, transpile\n",
        "from qiskit_aer import AerSimulator\n",
        "\n",
        "# Initialize simulator\n",
        "sim = AerSimulator()\n",
        "\n",
        "# ====================================\n",
        "# Original Circuit (for comparison)\n",
        "# ====================================\n",
        "print(\"\\n--- Original Circuit ---\")\n",
        "\n",
        "qc_original = QuantumCircuit(2, 2)\n",
        "qc_original.h(0)\n",
        "qc_original.cx(0, 1)\n",
        "qc_original.cz(0, 1)\n",
        "qc_original.swap(0, 1)\n",
        "qc_original.measure_all()\n",
        "\n",
        "compiled_orig = transpile(qc_original, sim)\n",
        "result_orig = sim.run(compiled_orig, shots=1024).result()\n",
        "counts_orig = result_orig.get_counts()\n",
        "\n",
        "print(qc_original.draw())\n",
        "print(\"Measurement Counts (Original):\", counts_orig)\n",
        "\n",
        "\n",
        "# ====================================\n",
        "# 1. Control / Target Variation\n",
        "# ====================================\n",
        "print(\"\\nTask 1\")\n",
        "\n",
        "qc_ct = QuantumCircuit(2, 2)\n",
        "qc_ct.h(0)\n",
        "qc_ct.cx(1, 0)  # Control = qubit 1, Target = qubit 0\n",
        "qc_ct.cz(1, 0)  # Control = 1, Target = 0\n",
        "qc_ct.swap(0, 1)\n",
        "qc_ct.measure_all()\n",
        "\n",
        "compiled_ct = transpile(qc_ct, sim)\n",
        "result_ct = sim.run(compiled_ct, shots=1024).result()\n",
        "counts_ct = result_ct.get_counts()\n",
        "\n",
        "print(qc_ct.draw())\n",
        "print(\"Measurement Counts (Control/Target Swapped):\", counts_ct)\n",
        "\n",
        "print(\"\\nExplanation: Changing control and target qubits alters how entanglement is created. The resulting output distribution changes because different qubits influence each other in different directions.\")\n",
        "\n",
        "\n",
        "# ====================================\n",
        "# 2. Gate Removal (Remove SWAP)\n",
        "# ====================================\n",
        "print(\"\\nTask 2\")\n",
        "\n",
        "qc_removed = QuantumCircuit(2, 2)\n",
        "qc_removed.h(0)\n",
        "qc_removed.cx(0, 1)\n",
        "qc_removed.cz(0, 1)\n",
        "# qc_removed.swap(0, 1)  # Removed\n",
        "qc_removed.measure_all()\n",
        "\n",
        "compiled_removed = transpile(qc_removed, sim)\n",
        "result_removed = sim.run(compiled_removed, shots=1024).result()\n",
        "counts_removed = result_removed.get_counts()\n",
        "\n",
        "print(qc_removed.draw())\n",
        "print(\"Measurement Counts (Without SWAP):\", counts_removed)\n",
        "\n",
        "print(\"\\nExplanation: Removing the SWAP gate keeps the qubits in their original positions, so measurement results map to different classical bits compared to the swapped version.\")\n",
        "\n",
        "\n",
        "# ====================================\n",
        "# 3. Add Another Hadamard (on qubit 1 before CNOT)\n",
        "# ====================================\n",
        "print(\"\\nTask 3\")\n",
        "\n",
        "qc_h_added = QuantumCircuit(2, 2)\n",
        "qc_h_added.h(0)\n",
        "qc_h_added.h(1)      # New Hadamard on qubit 1\n",
        "qc_h_added.cx(0, 1)\n",
        "qc_h_added.cz(0, 1)\n",
        "qc_h_added.swap(0, 1)\n",
        "qc_h_added.measure_all()\n",
        "\n",
        "compiled_h_added = transpile(qc_h_added, sim)\n",
        "result_h_added = sim.run(compiled_h_added, shots=1024).result()\n",
        "counts_h_added = result_h_added.get_counts()\n",
        "\n",
        "print(qc_h_added.draw())\n",
        "print(\"Measurement Counts (Hadamard Added on Qubit 1):\", counts_h_added)\n",
        "\n",
        "print(\"\\nExplanation: Applying a Hadamard on the second qubit before entangling operations changes its basis. This affects how the two qubits interfere and entangle, leading to different measurement distributions.\")\n"
      ]
    },
    {
      "cell_type": "code",
      "source": [],
      "metadata": {
        "id": "XXSzfpG9q7hc"
      },
      "execution_count": null,
      "outputs": []
    }
  ]
}